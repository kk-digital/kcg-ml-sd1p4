{
  "cells": [
    {
      "cell_type": "code",
      "source": [
        "%cd ~/"
      ],
      "metadata": {
        "id": "bZ7lkO8RORcR",
        "outputId": "5e448da3-cc46-4f5b-dccd-815ea837b29d",
        "colab": {
          "base_uri": "https://localhost:8080/"
        }
      },
      "execution_count": 44,
      "outputs": [
        {
          "output_type": "stream",
          "name": "stdout",
          "text": [
            "/root\n"
          ]
        }
      ]
    },
    {
      "cell_type": "code",
      "source": [
        "import sys\n",
        "# Important deps\n",
        "!apt update && apt install -y axel python3-pip git libgl1-mesa-glx curl\n",
        "\n",
        "# Clone the repo\n",
        "!git clone https://github.com/kk-digital/kcg-ml-sd1p4.git -b lora -c \"socks4.proxy=socks4://86.48.13.95:3128\"\n",
        "\n",
        "%cd kcg-ml-sd1p4\n",
        "!git clone https://github.com/kohya-ss/sd-scripts train/sd-scripts -c \"socks4.proxy=socks4://86.48.13.95:3128\""
      ],
      "metadata": {
        "id": "K0VhErRSyZVf"
      },
      "execution_count": null,
      "outputs": []
    },
    {
      "cell_type": "code",
      "source": [
        "# Install reqs\n",
        "!pip3 install -r train/requirements.txt"
      ],
      "metadata": {
        "id": "aZgfLQlHyd8n"
      },
      "execution_count": null,
      "outputs": []
    },
    {
      "cell_type": "code",
      "source": [
        "# Download model weights\n",
        "!axel -o ./input/model/sd-v1-4.ckpt -s 8 http://huggingface.co/CompVis/stable-diffusion-v-1-4-original/resolve/main/sd-v1-4.ckpt"
      ],
      "metadata": {
        "id": "GqvpimavzOKV",
        "outputId": "12a5eca4-b180-4bd5-98c5-66aa0e49bcfd",
        "colab": {
          "base_uri": "https://localhost:8080/"
        }
      },
      "execution_count": 57,
      "outputs": [
        {
          "output_type": "stream",
          "name": "stdout",
          "text": [
            "Initializing download: http://huggingface.co/CompVis/stable-diffusion-v-1-4-original/resolve/main/sd-v1-4.ckpt\n",
            "SSL error: (null)\n",
            "HTTP/1.1 301 Moved Permanently\n",
            "Server: CloudFront\n",
            "Date: Thu, 15 Jun 2023 23:22:21 GMT\n",
            "Content-Type: text/html\n",
            "Content-Length: 167\n",
            "Connection: close\n",
            "Location: https://huggingface.co/CompVis/stable-diffusion-v-1-4-original/resolve/main/sd-v1-4.ckpt\n",
            "X-Cache: Redirect from cloudfront\n",
            "Via: 1.1 5941357b26a453b21aa60fbf2f923836.cloudfront.net (CloudFront)\n",
            "X-Amz-Cf-Pop: SFO20-C1\n",
            "X-Amz-Cf-Id: f0u0Pr4Rirzyd6oi3pMvLF-qDN5K72EdXHas9bctAwL4Wi3L04VnwQ==\n",
            "\n"
          ]
        }
      ]
    },
    {
      "cell_type": "code",
      "source": [
        "# Let's now run the 'test suite'\n",
        "!python3 train/lora_train.py"
      ],
      "metadata": {
        "id": "WCEDITmRzMc1"
      },
      "execution_count": null,
      "outputs": []
    }
  ],
  "metadata": {
    "accelerator": "GPU",
    "colab": {
      "provenance": []
    },
    "kernelspec": {
      "display_name": "Python 3",
      "name": "python3"
    },
    "language_info": {
      "name": "python"
    }
  },
  "nbformat": 4,
  "nbformat_minor": 0
}