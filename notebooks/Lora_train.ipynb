{
  "cells": [
    {
      "cell_type": "code",
      "source": [
        "# Default env type is test\n",
        "# Change this when running on colab or kaggle\n",
        "ENV_TYPE = \"TEST\""
      ],
      "metadata": {
        "id": "K0VhErRSyZVf"
      },
      "execution_count": 4,
      "outputs": []
    },
    {
      "cell_type": "code",
      "execution_count": null,
      "outputs": [],
      "source": [
        "# Important deps\n",
        "!apt update && apt install -y aria2 python3-pip git libgl1-mesa-glx\n",
        "\n",
        "if ENV_TYPE != \"TEST\":\n",
        "    # Clone the repo\n",
        "    !git clone https://github.com/kk-digital/kcg-ml-sd1p4.git --recurse-submodules -c \"socks4.proxy=socks4://86.48.13.95:3128\"\n",
        "    %cd kcg-ml-sd1p4\n",
        "    # Download model weights\n",
        "    !aria2c https://huggingface.co/CompVis/stable-diffusion-v-1-4-original/resolve/main/sd-v1-4.ckpt -o ./input/model/sd-v1-4.ckpt -j 10"
      ],
      "metadata": {
        "id": "fFZM4vxQ1aIM"
      }
    },
    {
      "cell_type": "code",
      "source": [
        "# Install reqs\n",
        "!pip3 install -r train/requirements.txt"
      ],
      "metadata": {
        "id": "aZgfLQlHyd8n"
      },
      "execution_count": null,
      "outputs": []
    },
    {
      "cell_type": "code",
      "source": [
        "# Let's now run the 'test suite'\n",
        "!python3 train/lora_train.py"
      ],
      "metadata": {
        "id": "WCEDITmRzMc1",
        "colab": {
          "base_uri": "https://localhost:8080/"
        },
        "outputId": "8b8f816f-591e-418c-ab2f-7cd307395b3c"
      },
      "execution_count": 6,
      "outputs": [
        {
          "output_type": "stream",
          "name": "stdout",
          "text": [
            "2023-06-19 18:08:52.808626: I tensorflow/core/platform/cpu_feature_guard.cc:182] This TensorFlow binary is optimized to use available CPU instructions in performance-critical operations.\n",
            "To enable the following instructions: AVX2 FMA, in other operations, rebuild TensorFlow with the appropriate compiler flags.\n",
            "2023-06-19 18:08:53.696919: W tensorflow/compiler/tf2tensorrt/utils/py_utils.cc:38] TF-TRT Warning: Could not find TensorRT\n",
            "\u001b[31m╭─\u001b[0m\u001b[31m────────────────────\u001b[0m\u001b[31m \u001b[0m\u001b[1;31mTraceback \u001b[0m\u001b[1;2;31m(most recent call last)\u001b[0m\u001b[31m \u001b[0m\u001b[31m─────────────────────\u001b[0m\u001b[31m─╮\u001b[0m\n",
            "\u001b[31m│\u001b[0m \u001b[2;33m/content/kcg-ml-sd1p4/train/\u001b[0m\u001b[1;33mlora_train.py\u001b[0m:\u001b[94m252\u001b[0m in \u001b[92m<module>\u001b[0m                    \u001b[31m│\u001b[0m\n",
            "\u001b[31m│\u001b[0m                                                                              \u001b[31m│\u001b[0m\n",
            "\u001b[31m│\u001b[0m   \u001b[2m249 \u001b[0m\u001b[2m│   \u001b[0m\u001b[94mglobal\u001b[0m COLAB                                                       \u001b[31m│\u001b[0m\n",
            "\u001b[31m│\u001b[0m   \u001b[2m250 \u001b[0m\u001b[2m│   \u001b[0mCOLAB = \u001b[33m'\u001b[0m\u001b[33mgoogle.colab\u001b[0m\u001b[33m'\u001b[0m \u001b[95min\u001b[0m sys.modules                              \u001b[31m│\u001b[0m\n",
            "\u001b[31m│\u001b[0m   \u001b[2m251 \u001b[0m\u001b[2m│   \u001b[0margs = parse_arguments()                                           \u001b[31m│\u001b[0m\n",
            "\u001b[31m│\u001b[0m \u001b[31m❱ \u001b[0m252 \u001b[2m│   \u001b[0mmain(args)                                                         \u001b[31m│\u001b[0m\n",
            "\u001b[31m│\u001b[0m   \u001b[2m253 \u001b[0m                                                                       \u001b[31m│\u001b[0m\n",
            "\u001b[31m│\u001b[0m                                                                              \u001b[31m│\u001b[0m\n",
            "\u001b[31m│\u001b[0m \u001b[2;33m/content/kcg-ml-sd1p4/train/\u001b[0m\u001b[1;33mlora_train.py\u001b[0m:\u001b[94m139\u001b[0m in \u001b[92mmain\u001b[0m                        \u001b[31m│\u001b[0m\n",
            "\u001b[31m│\u001b[0m                                                                              \u001b[31m│\u001b[0m\n",
            "\u001b[31m│\u001b[0m   \u001b[2m136 \u001b[0m\u001b[2m│   │   \u001b[0mos.makedirs(\u001b[96mdir\u001b[0m)                                               \u001b[31m│\u001b[0m\n",
            "\u001b[31m│\u001b[0m   \u001b[2m137 \u001b[0m\u001b[2m│   \u001b[0m                                                                   \u001b[31m│\u001b[0m\n",
            "\u001b[31m│\u001b[0m   \u001b[2m138 \u001b[0m\u001b[2m│   \u001b[0m\u001b[2m# Check dataset and extract if necessary\u001b[0m                           \u001b[31m│\u001b[0m\n",
            "\u001b[31m│\u001b[0m \u001b[31m❱ \u001b[0m139 \u001b[2m│   \u001b[0margs.dataset = check_dataset(args.dataset)                         \u001b[31m│\u001b[0m\n",
            "\u001b[31m│\u001b[0m   \u001b[2m140 \u001b[0m\u001b[2m│   \u001b[0m\u001b[96mprint\u001b[0m(\u001b[33mf\u001b[0m\u001b[33m\"\u001b[0m\u001b[33mDataset directory: \u001b[0m\u001b[33m{\u001b[0margs.dataset\u001b[33m}\u001b[0m\u001b[33m\"\u001b[0m)                        \u001b[31m│\u001b[0m\n",
            "\u001b[31m│\u001b[0m   \u001b[2m141 \u001b[0m\u001b[2m│   \u001b[0m                                                                   \u001b[31m│\u001b[0m\n",
            "\u001b[31m│\u001b[0m   \u001b[2m142 \u001b[0m\u001b[2m│   \u001b[0m\u001b[2m# Patch kohya for minor stuff\u001b[0m                                      \u001b[31m│\u001b[0m\n",
            "\u001b[31m│\u001b[0m                                                                              \u001b[31m│\u001b[0m\n",
            "\u001b[31m│\u001b[0m \u001b[2;33m/content/kcg-ml-sd1p4/train/\u001b[0m\u001b[1;33mlora_train.py\u001b[0m:\u001b[94m29\u001b[0m in \u001b[92mcheck_dataset\u001b[0m                \u001b[31m│\u001b[0m\n",
            "\u001b[31m│\u001b[0m                                                                              \u001b[31m│\u001b[0m\n",
            "\u001b[31m│\u001b[0m   \u001b[2m 26 \u001b[0m\u001b[2m│   │   │   \u001b[0m\u001b[96mprint\u001b[0m(\u001b[33m\"\u001b[0m\u001b[33mDataset extracted successfully.\u001b[0m\u001b[33m\"\u001b[0m)                   \u001b[31m│\u001b[0m\n",
            "\u001b[31m│\u001b[0m   \u001b[2m 27 \u001b[0m\u001b[2m│   │   \u001b[0m\u001b[94mreturn\u001b[0m os.path.abspath(extracted_dir)                          \u001b[31m│\u001b[0m\n",
            "\u001b[31m│\u001b[0m   \u001b[2m 28 \u001b[0m\u001b[2m│   \u001b[0m                                                                   \u001b[31m│\u001b[0m\n",
            "\u001b[31m│\u001b[0m \u001b[31m❱ \u001b[0m 29 \u001b[2m│   \u001b[0m\u001b[94mraise\u001b[0m \u001b[96mValueError\u001b[0m(\u001b[33m\"\u001b[0m\u001b[33mInvalid dataset path.\u001b[0m\u001b[33m\"\u001b[0m)                          \u001b[31m│\u001b[0m\n",
            "\u001b[31m│\u001b[0m   \u001b[2m 30 \u001b[0m                                                                       \u001b[31m│\u001b[0m\n",
            "\u001b[31m│\u001b[0m   \u001b[2m 31 \u001b[0m\u001b[94mdef\u001b[0m \u001b[92mgenerate_config\u001b[0m(config_file, dataset_config_file, model_file, acti \u001b[31m│\u001b[0m\n",
            "\u001b[31m│\u001b[0m   \u001b[2m 32 \u001b[0m\u001b[2m│   │   │   │   │   \u001b[0mnetwork_dim, network_alpha, batch_size, caption_ex \u001b[31m│\u001b[0m\n",
            "\u001b[31m╰──────────────────────────────────────────────────────────────────────────────╯\u001b[0m\n",
            "\u001b[1;91mValueError: \u001b[0mInvalid dataset path.\n"
          ]
        }
      ]
    }
  ],
  "metadata": {
    "accelerator": "GPU",
    "colab": {
      "provenance": []
    },
    "kernelspec": {
      "display_name": "Python 3",
      "name": "python3"
    },
    "language_info": {
      "name": "python"
    }
  },
  "nbformat": 4,
  "nbformat_minor": 0
}