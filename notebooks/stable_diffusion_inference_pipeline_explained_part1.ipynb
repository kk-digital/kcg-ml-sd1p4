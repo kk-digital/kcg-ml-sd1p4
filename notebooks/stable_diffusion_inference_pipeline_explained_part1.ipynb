{
  "cells": [
    {
      "cell_type": "markdown",
      "metadata": {
        "id": "RDJmkhZxKq3j"
      },
      "source": [
        "This notebook intends to show how to use the developed API to construct a `StableDiffusion` object and generate an image from a textual prompt.\n",
        "\n",
        "---\n",
        "\n",
        "We started noticing that, in the reference codebase, running any part of the stable diffusion model required the initialization and loading of the entire `LatentDiffusion` module, which loads the stable diffusion models' checkpoints.\n",
        "\n",
        "The `LatentDiffusion` module is composed mainly by three submodules: `UNetModel`, `Autoencoder` and `CLIPTextEmbedder`. It makes sense to use these submodules individually, and we wanted to increase the pipeline modularity, in order for it to support individual runs. For instance, the `CLIPTextEmbedder` turns textual prompts into tensors in an embedding space. It makes perfect sense to embed a number of textual prompts, then run the rest of the pipeline over these embeddings. Heavier parts of the `LatentDiffusion` model, such as the UNet and the autoencoder aren't needed to embed the prompts. Hence the first goal was to add support for the individual usage of the submodules that 'made sense' to be used individually.\n",
        "\n",
        "The second goal was to avoid downloads during runtime altogether, while minimizing usage of external libraries. These downloads were occurring mainly due to the `transformers` library, that was being used to load/download the `openai/clip-vit-large-patch14` model and construct the text embedder.\n",
        "\n",
        "The third goal was to add support to `.safetensors`. Since `torch` still doesn't support it natively, and the very process of saving and loading being different, that was quite troublesome. To begin with, with `safetensors` the serialization is only at tensors level, so you can only save/load dictionaries of tensors, which are in general weights or state dicts; with pickle, you can save the very Python object, so that when you load it *you already have an instance of it*. That's important because *you need an instance of the model you are trying to load weights into*. And if you don't have the code for the object (in general, the code for a `nn.Module` that instantiates a module with a state dict compatible with what you are loading into object), you won't be able to use `.safetensors`. And we didn't had the codes for the submodels the `CLIPTextEmbedder` has, since they were coming from `transformers` lib."
      ]
    },
    {
      "cell_type": "code",
      "execution_count": null,
      "metadata": {
        "id": "Npc6q_iDKq3l"
      },
      "outputs": [],
      "source": [
        "# Check if we're on Google Colab to clone and change dir into the repo\n",
        "if 'google.colab' in str(get_ipython()):\n",
        "  !git clone https://github.com/kk-digital/kcg-ml-sd1p4\n",
        "  %cd kcg-ml-sd1p4"
      ]
    },
    {
      "cell_type": "code",
      "execution_count": null,
      "metadata": {
        "id": "FWb_CWOMKq3m"
      },
      "outputs": [],
      "source": [
        "!pip install -r requirements.txt"
      ]
    },
    {
      "cell_type": "code",
      "execution_count": null,
      "metadata": {
        "id": "07gHSoZPKq3n"
      },
      "outputs": [],
      "source": [
        "!python3 ./download_models.py"
      ]
    },
    {
      "cell_type": "code",
      "execution_count": null,
      "metadata": {
        "id": "kbE_ixjQKq3n"
      },
      "outputs": [],
      "source": [
        "!python3 ./process_models.py"
      ]
    },
    {
      "cell_type": "code",
      "execution_count": 3,
      "metadata": {
        "id": "lO8tIHnRKq3o",
        "outputId": "b977bb82-a674-439a-96ae-b54e6557d8ad",
        "colab": {
          "base_uri": "https://localhost:8080/"
        }
      },
      "outputs": [
        {
          "output_type": "stream",
          "name": "stdout",
          "text": [
            "/devbox/kcg-ml-sd1p4\n"
          ]
        }
      ],
      "source": [
        "import os\n",
        "import sys\n",
        "\n",
        "base_directory = \"./\"\n",
        "sys.path.insert(0, base_directory)\n",
        "print(os.path.abspath(base_directory))\n",
        "\n",
        "import json\n",
        "import torch\n",
        "import configparser\n",
        "import safetensors\n",
        "from stable_diffusion import StableDiffusion\n",
        "from stable_diffusion.utils_backend import *\n",
        "from stable_diffusion.utils_image import *\n",
        "from stable_diffusion.utils_model import *\n",
        "from stable_diffusion.utils_logger import *\n",
        "from stable_diffusion.model.clip_image_encoder import CLIPImageEncoder\n",
        "\n",
        "from stable_diffusion.constants import IODirectoryTree\n",
        "\n",
        "device = get_device()\n",
        "to_pil = lambda image: ToPILImage()(torch.clamp((image + 1.0) / 2.0, min=0.0, max=1.0))"
      ]
    },
    {
      "cell_type": "code",
      "execution_count": null,
      "metadata": {
        "id": "aFAcjE8GKq3o"
      },
      "outputs": [],
      "source": [
        "base_dir = os.getcwd()\n",
        "sys.path.insert(0, base_dir)\n",
        "\n",
        "import configparser\n",
        "config = configparser.ConfigParser(interpolation=configparser.ExtendedInterpolation())\n",
        "config.read(os.path.join(base_dir, \"config.ini\"))\n",
        "config['BASE']['BASE_DIRECTORY'] = base_dir\n",
        "config[\"BASE\"].get('base_io_directory')\n",
        "\n",
        "batch_size = 1\n",
        "pt = IODirectoryTree(base_io_directory_prefix = config[\"BASE\"].get('base_io_directory_prefix'), base_directory=base_dir)"
      ]
    },
    {
      "cell_type": "code",
      "execution_count": null,
      "metadata": {
        "id": "LtjECV9_Kq3q"
      },
      "outputs": [],
      "source": [
        "pt.create_directory_tree_folders()\n",
        "pt"
      ]
    },
    {
      "cell_type": "markdown",
      "metadata": {
        "id": "lvskAL7uKq3r"
      },
      "source": [
        "We are using `transformers` for the CLIP models.\n",
        "\n",
        "On a first run, since we don't have the required model on cache, the next cell would normally download the pretrained tokenizer from `openai/clip-vit-large-patch14` on Huggingface."
      ]
    },
    {
      "cell_type": "code",
      "execution_count": 5,
      "metadata": {
        "id": "vvhatDrtKq3s"
      },
      "outputs": [],
      "source": [
        "from transformers import CLIPTokenizer\n",
        "\n",
        "# tokenizer = CLIPTokenizer.from_pretrained('openai/clip-vit-large-patch14')"
      ]
    },
    {
      "cell_type": "markdown",
      "metadata": {
        "id": "Eby7FSeEKq3s"
      },
      "source": [
        "Instead, we have the tokenizer files (are very light) in our repo, so we load from it with:"
      ]
    },
    {
      "cell_type": "code",
      "execution_count": 6,
      "metadata": {
        "id": "nhwEVprjKq3t"
      },
      "outputs": [],
      "source": [
        "tokenizer = CLIPTokenizer.from_pretrained(pt.tokenizer_path, local_files_only=True)"
      ]
    },
    {
      "cell_type": "code",
      "execution_count": 7,
      "metadata": {
        "id": "is5EwF61Kq3t"
      },
      "outputs": [],
      "source": [
        "# this is how you save it\n",
        "# sd_savepath = os.path.join(pt.sd_model_dir, \"clip_\")\n",
        "# tokenizer.save_pretrained(sd_savepath+\"tokenizer\", safe_serialization=True)"
      ]
    },
    {
      "cell_type": "markdown",
      "metadata": {
        "id": "y2rWe8RdKq3t"
      },
      "source": [
        "Here again, if we didn't have the required configuration file on cache, the next cell would normally download the `CLIPTextModel` config file from `openai/clip-vit-large-patch14` on Huggingface. That is needed for us to initialize an empty `CLIPTextModel` object."
      ]
    },
    {
      "cell_type": "code",
      "execution_count": 8,
      "metadata": {
        "id": "bgnjVNk7Kq3u"
      },
      "outputs": [],
      "source": [
        "from transformers import CLIPTextConfig, CLIPTextModel\n",
        "\n",
        "#fetch config file from huggingface and save it to the model folder\n",
        "# config = CLIPTextConfig.from_pretrained(\"openai/clip-vit-large-patch14\")\n",
        "# config.save_pretrained(pt.text_model_path)\n",
        "# config"
      ]
    },
    {
      "cell_type": "markdown",
      "metadata": {
        "id": "4W4tR3R_Kq3u"
      },
      "source": [
        "We also have that config file in our repo, so we can load it from disk."
      ]
    },
    {
      "cell_type": "code",
      "execution_count": null,
      "metadata": {
        "id": "JZg4VP-CKq3u"
      },
      "outputs": [],
      "source": [
        "config = CLIPTextConfig.from_pretrained(pt.text_model_path, local_files_only=True)\n",
        "# config = CLIPTextConfig.from_pretrained('../input/model/clip/text_embedder/text_model/config.json')\n",
        "config"
      ]
    },
    {
      "cell_type": "markdown",
      "metadata": {
        "id": "QaDKiCfBKq3u"
      },
      "source": [
        "Then we can finally instantiate a `CLIPTextModel`:"
      ]
    },
    {
      "cell_type": "code",
      "execution_count": 10,
      "metadata": {
        "id": "1fM0_DbrKq3v"
      },
      "outputs": [],
      "source": [
        "text_model = CLIPTextModel(config)"
      ]
    },
    {
      "cell_type": "code",
      "execution_count": null,
      "metadata": {
        "id": "uE006a_TKq3v"
      },
      "outputs": [],
      "source": [
        "get_memory_status(device)"
      ]
    },
    {
      "cell_type": "code",
      "execution_count": null,
      "metadata": {
        "id": "iESZYtJEKq3v"
      },
      "outputs": [],
      "source": [
        "text_model.to(device)"
      ]
    },
    {
      "cell_type": "code",
      "execution_count": null,
      "metadata": {
        "id": "Ej_sCaLPKq3v"
      },
      "outputs": [],
      "source": [
        "get_memory_status(device)"
      ]
    },
    {
      "cell_type": "code",
      "execution_count": 15,
      "metadata": {
        "id": "DXxAdw0IKq3w"
      },
      "outputs": [],
      "source": [
        "text_model.save_pretrained(pt.text_model_path, safe_serialization=True)"
      ]
    },
    {
      "cell_type": "code",
      "execution_count": 16,
      "metadata": {
        "id": "hJwlOeoPKq3w"
      },
      "outputs": [],
      "source": [
        "# test load\n",
        "# text_model = CLIPTextModel.from_pretrained(pt.text_model_path, local_files_only=True, use_safetensors=True).eval().to(DEVICE)"
      ]
    },
    {
      "cell_type": "markdown",
      "metadata": {
        "id": "Uaah1-DEKq3w"
      },
      "source": [
        "Now we finally can instantiate a text embedder without loading any weights."
      ]
    },
    {
      "cell_type": "code",
      "execution_count": 17,
      "metadata": {
        "id": "xVF3S4o2Kq3x"
      },
      "outputs": [],
      "source": [
        "from stable_diffusion.model.clip_text_embedder import CLIPTextEmbedder"
      ]
    },
    {
      "cell_type": "code",
      "execution_count": 19,
      "metadata": {
        "id": "Var5ly1qKq3x"
      },
      "outputs": [],
      "source": [
        "text_embedder = CLIPTextEmbedder(pt, device=device, tokenizer = tokenizer, transformer=text_model)"
      ]
    },
    {
      "cell_type": "code",
      "execution_count": null,
      "metadata": {
        "id": "OScs_coeKq3x"
      },
      "outputs": [],
      "source": [
        "text_embedder.to(text_embedder.device)"
      ]
    },
    {
      "cell_type": "markdown",
      "metadata": {
        "id": "_lbOAQhaKq3y"
      },
      "source": [
        "Naturally, at this point we should be able to embed a prompt, albeit badly, because we started the CLIPTextModel with no weights, the configuration alone:"
      ]
    },
    {
      "cell_type": "code",
      "execution_count": null,
      "metadata": {
        "id": "Gv1YVIZKKq3y"
      },
      "outputs": [],
      "source": [
        "text_embedder('A great sword')"
      ]
    },
    {
      "cell_type": "markdown",
      "metadata": {
        "id": "UZoXzGkTKq3y"
      },
      "source": [
        "If we haven't done the process of creating the submodels instances, we would have, instead:"
      ]
    },
    {
      "cell_type": "code",
      "execution_count": null,
      "metadata": {
        "id": "iwYeyXw6Kq3y"
      },
      "outputs": [],
      "source": [
        "not_text_embedder = CLIPTextEmbedder(pt, device=device, tokenizer = None, transformer= None)"
      ]
    },
    {
      "cell_type": "code",
      "execution_count": null,
      "metadata": {
        "id": "CcEDkp6sKq3z"
      },
      "outputs": [],
      "source": [
        "not_text_embedder.to(not_text_embedder.device)"
      ]
    },
    {
      "cell_type": "markdown",
      "metadata": {
        "id": "en7uIitMKq3z"
      },
      "source": [
        "And, obviously, our forward wouldn't work:"
      ]
    },
    {
      "cell_type": "code",
      "execution_count": null,
      "metadata": {
        "id": "6yXNMjPOKq3z"
      },
      "outputs": [],
      "source": [
        "try:\n",
        "  not_text_embedder('A great sword')\n",
        "except:\n",
        "  print(\"Noup\")"
      ]
    },
    {
      "cell_type": "markdown",
      "metadata": {
        "id": "PQG4vZhuKq3z"
      },
      "source": [
        "Let's redo the text embedder, but now loading the saved submodels."
      ]
    },
    {
      "cell_type": "code",
      "execution_count": null,
      "metadata": {
        "id": "lBlKR9CTKq30"
      },
      "outputs": [],
      "source": [
        "text_embedder = CLIPTextEmbedder(pt, device=device, tokenizer = None, transformer= None)"
      ]
    },
    {
      "cell_type": "code",
      "execution_count": null,
      "metadata": {
        "id": "kLAnU0XPKq30"
      },
      "outputs": [],
      "source": [
        "# still empty\n",
        "text_embedder"
      ]
    },
    {
      "cell_type": "code",
      "execution_count": null,
      "metadata": {
        "id": "dU1o9V8pKq30"
      },
      "outputs": [],
      "source": [
        "text_embedder.load_submodels(tokenizer_path = pt.tokenizer_path, transformer_path = pt.text_model_path)"
      ]
    },
    {
      "cell_type": "code",
      "execution_count": null,
      "metadata": {
        "id": "se-h1AAuKq30"
      },
      "outputs": [],
      "source": [
        "# we could also save our submodels to disk for later use\n",
        "# text_embedder.save_submodels(tokenizer_path=pt.tokenizer_path, text_model_path=pt.text_model_path)"
      ]
    },
    {
      "cell_type": "markdown",
      "metadata": {
        "id": "RxqVYt3xKq30"
      },
      "source": [
        "Now we need to create an instance for two other submodules, `UNetModel` and `Autoencoder`. Those submodules should be easier to initialize since we have the `nn.Module` objects defined, and can avoid `transformers` entirely.\n",
        "\n",
        "The `Autoencoder` is also composed of two submodules that are actually useful individually, `Encoder` and `Decoder`. Let's start instantiating it."
      ]
    },
    {
      "cell_type": "code",
      "execution_count": 32,
      "metadata": {
        "id": "cGJ-HKcdKq31"
      },
      "outputs": [],
      "source": [
        "# from stable_diffusion.utils.model import initialize_encoder\n",
        "from stable_diffusion.model.vae import Encoder"
      ]
    },
    {
      "cell_type": "code",
      "execution_count": null,
      "metadata": {
        "id": "rlPnfrquKq31"
      },
      "outputs": [],
      "source": [
        "encoder = Encoder(device=device)"
      ]
    },
    {
      "cell_type": "code",
      "execution_count": 35,
      "metadata": {
        "id": "QNJsGhWFKq31"
      },
      "outputs": [],
      "source": [
        "# from stable_diffusion.utils.model import initialize_decoder\n",
        "from stable_diffusion.model.vae import Decoder"
      ]
    },
    {
      "cell_type": "code",
      "execution_count": null,
      "metadata": {
        "id": "cXflxDHTKq32"
      },
      "outputs": [],
      "source": [
        "# decoder = initialize_decoder(device=DEVICE)\n",
        "decoder = Decoder(device=device)"
      ]
    },
    {
      "cell_type": "code",
      "execution_count": 38,
      "metadata": {
        "id": "hTte65OcKq32"
      },
      "outputs": [],
      "source": [
        "# from stable_diffusion.utils.model import initialize_autoencoder\n",
        "from stable_diffusion.model.vae import Autoencoder"
      ]
    },
    {
      "cell_type": "code",
      "execution_count": null,
      "metadata": {
        "id": "zrveMqcuKq33"
      },
      "outputs": [],
      "source": [
        "# autoencoder = initialize_autoencoder(device=DEVICE, encoder=encoder, decoder=decoder)\n",
        "autoencoder = Autoencoder(device=device, encoder=encoder, decoder=decoder)"
      ]
    },
    {
      "cell_type": "markdown",
      "metadata": {
        "id": "YCG0Uk1KKq33"
      },
      "source": [
        "Okay, now we have an untrained autoencoder. Now we just need the UNet."
      ]
    },
    {
      "cell_type": "code",
      "execution_count": 41,
      "metadata": {
        "id": "R_6cK-4lKq33"
      },
      "outputs": [],
      "source": [
        "from stable_diffusion.model.unet import UNetModel\n",
        "# from stable_diffusion.utils.model import initialize_unet"
      ]
    },
    {
      "cell_type": "code",
      "execution_count": 42,
      "metadata": {
        "id": "-3iIycWkKq34"
      },
      "outputs": [],
      "source": [
        "unet_model = UNetModel(device=device)"
      ]
    },
    {
      "cell_type": "code",
      "execution_count": null,
      "metadata": {
        "id": "ciMdKJWzKq34"
      },
      "outputs": [],
      "source": [
        "get_memory_status(device)"
      ]
    },
    {
      "cell_type": "markdown",
      "metadata": {
        "id": "YPTMTOQoKq34"
      },
      "source": [
        "Now we need to build a model with the same structure that the checkpoint we are going to use (by default, `runwayml/stable-diffusion-v1-5`), so the weights get properly mapped. This model is called `LatentDiffusion`. We also have a `initialize_latent_diffusion` function, which I will omit since it's a bit longer than the others."
      ]
    },
    {
      "cell_type": "code",
      "execution_count": 44,
      "metadata": {
        "id": "0lcDcUxaKq34"
      },
      "outputs": [],
      "source": [
        "from stable_diffusion import LatentDiffusion\n",
        "# from stable_diffusion.utils.model import initialize_latent_diffusion"
      ]
    },
    {
      "cell_type": "code",
      "execution_count": 45,
      "metadata": {
        "id": "TQEs0tcFKq35"
      },
      "outputs": [],
      "source": [
        "latent_diffusion = LatentDiffusion(\n",
        "                            autoencoder=autoencoder,\n",
        "                            clip_embedder=text_embedder,\n",
        "                            unet_model=unet_model,\n",
        "                            device=device\n",
        "                            )"
      ]
    },
    {
      "cell_type": "code",
      "execution_count": 46,
      "metadata": {
        "id": "IMXNdMtcKq35"
      },
      "outputs": [],
      "source": [
        "import safetensors"
      ]
    },
    {
      "cell_type": "code",
      "execution_count": null,
      "metadata": {
        "id": "H11_egkuKq35"
      },
      "outputs": [],
      "source": [
        "with section(f\"stable diffusion checkpoint loading, from {pt.checkpoint_path}\"):\n",
        "    stable_diffusion_checkpoint = safetensors.torch.load_file(pt.checkpoint_path, device=\"cpu\")"
      ]
    },
    {
      "cell_type": "markdown",
      "metadata": {
        "id": "bdaZGHPoKq35"
      },
      "source": [
        "Push them weights into dat model, ya"
      ]
    },
    {
      "cell_type": "code",
      "execution_count": null,
      "metadata": {
        "id": "fQqe30vIKq35"
      },
      "outputs": [],
      "source": [
        "with section('model state loading'):\n",
        "    missing_keys, extra_keys = latent_diffusion.load_state_dict(stable_diffusion_checkpoint, strict=False)"
      ]
    },
    {
      "cell_type": "markdown",
      "metadata": {
        "id": "5-rkAEzdKq36"
      },
      "source": [
        "It's common that some weights don't get mapped perfectly."
      ]
    },
    {
      "cell_type": "code",
      "execution_count": null,
      "metadata": {
        "id": "4rZ51g0-Kq36"
      },
      "outputs": [],
      "source": [
        "print(extra_keys)\n",
        "print(len(extra_keys))\n",
        "print(missing_keys)\n",
        "print(len(missing_keys))"
      ]
    },
    {
      "cell_type": "markdown",
      "metadata": {
        "id": "iqqzFGCYKq36"
      },
      "source": [
        "But now we have a fully loaded latent diffusion model. To actually perform the 'stable diffusion', which is actually a kind of latent diffusion model, we need yet another class, the `StableDiffusion`. Roughly speaking, the `StableDiffusion` class uses the `LatentDiffusion` model in a specific way to denoise a random sample from the latent space. It uses a diffusion process for that, hence 'latent diffusion'. What defines this process, i.e, how to use the `LatentDiffusion` model to denoise a random sampling is a sampler. That's what gets added into the `StableDiffusion` class. Besides that, it provides a unified interface for inference."
      ]
    },
    {
      "cell_type": "code",
      "execution_count": 51,
      "metadata": {
        "id": "Vwn5XPATKq36"
      },
      "outputs": [],
      "source": [
        "from stable_diffusion import StableDiffusion"
      ]
    },
    {
      "cell_type": "code",
      "execution_count": null,
      "metadata": {
        "id": "8eUVnXe7Kq36"
      },
      "outputs": [],
      "source": [
        "stable_diffusion = StableDiffusion(device=device, model = latent_diffusion, ddim_steps = 20)"
      ]
    },
    {
      "cell_type": "code",
      "execution_count": 54,
      "metadata": {
        "id": "q61RHfKGKq37"
      },
      "outputs": [],
      "source": [
        "prompt = 'A cat'"
      ]
    },
    {
      "cell_type": "code",
      "execution_count": null,
      "metadata": {
        "id": "OCWQOwk9Kq37"
      },
      "outputs": [],
      "source": [
        "with section('sampling...'):\n",
        "    image_tensor = stable_diffusion.generate_images(prompt = prompt, seed = 1)"
      ]
    },
    {
      "cell_type": "code",
      "execution_count": null,
      "metadata": {
        "id": "upexVnK7Kq37"
      },
      "outputs": [],
      "source": [
        "to_pil(image_tensor.squeeze())"
      ]
    },
    {
      "cell_type": "markdown",
      "metadata": {
        "id": "lAtUiY3QKq38"
      },
      "source": [
        "Let's finish this notebook by saving all the relevant submodels to disk, with their weights loaded in. What we did: we broke the `v1-5...` checkpoint, a big file, into one checkpoint for each model, so now we can load the weights that were contained in the checkpoint more modularly. We will start part 2 by redoing the process of assembling a `StableDiffusion` instance by loading the checkpoints for the saved models, instead of loading the checkpoint for the `LatentDiffusion` model."
      ]
    },
    {
      "cell_type": "code",
      "execution_count": null,
      "metadata": {
        "id": "kxamynpHKq38"
      },
      "outputs": [],
      "source": [
        "# first stage model is the autoencoder; let's save it's submodels\n",
        "stable_diffusion.model.first_stage_model.save_submodels(encoder_path = pt.encoder_path, decoder_path = pt.decoder_path)"
      ]
    },
    {
      "cell_type": "code",
      "execution_count": 58,
      "metadata": {
        "id": "HfnquwMxKq38"
      },
      "outputs": [],
      "source": [
        "# the autoencoder itself also has parameters, so we also need to save it; but let's unload it's submodels first\n",
        "stable_diffusion.model.first_stage_model.unload_submodels()"
      ]
    },
    {
      "cell_type": "code",
      "execution_count": null,
      "metadata": {
        "id": "FUnh1v2KKq38"
      },
      "outputs": [],
      "source": [
        "# now save the unloaded autoencoder\n",
        "stable_diffusion.model.first_stage_model.save(autoencoder_path=pt.autoencoder_path)"
      ]
    },
    {
      "cell_type": "code",
      "execution_count": null,
      "metadata": {
        "id": "lrZBeY65Kq38"
      },
      "outputs": [],
      "source": [
        "# cond stage is the conditioning stage: the CLIPTextEmbedder model. let's save it's submodels too\n",
        "stable_diffusion.model.cond_stage_model.save_submodels(tokenizer_path = pt.tokenizer_path, transformer_path = pt.text_model_path)"
      ]
    },
    {
      "cell_type": "code",
      "execution_count": 61,
      "metadata": {
        "id": "SxiBGuDMKq39"
      },
      "outputs": [],
      "source": [
        "stable_diffusion.model.cond_stage_model.unload_submodels()"
      ]
    },
    {
      "cell_type": "code",
      "execution_count": null,
      "metadata": {
        "id": "rkNKVFdKKq39"
      },
      "outputs": [],
      "source": [
        "# save the UNet model\n",
        "stable_diffusion.model.model.diffusion_model.save(unet_path=pt.unet_path)"
      ]
    },
    {
      "cell_type": "code",
      "execution_count": null,
      "metadata": {
        "id": "cpibKpr6Kq39"
      },
      "outputs": [],
      "source": [
        "# `LatentDiffusion` also has parameters, so we should save it as well, but only after unloading the submodels.\n",
        "stable_diffusion.model.unload_submodels()"
      ]
    },
    {
      "cell_type": "code",
      "execution_count": null,
      "metadata": {
        "id": "Y1R6V4yZKq39"
      },
      "outputs": [],
      "source": [
        "# save the unloaded latent diffusion model\n",
        "stable_diffusion.model.save(latent_diffusion_path=pt.latent_diffusion_path)"
      ]
    },
    {
      "cell_type": "code",
      "source": [
        "# Delete stable diffusion object\n",
        "del stable_diffusion"
      ],
      "metadata": {
        "id": "oRY1jkhXNdR0"
      },
      "execution_count": 69,
      "outputs": []
    },
    {
      "cell_type": "markdown",
      "metadata": {
        "id": "1YN1DBLVKq3-"
      },
      "source": [
        "Now, in part 2, let's rebuild a `StableDiffusion` class, with the saved submodels."
      ]
    }
  ],
  "metadata": {
    "kernelspec": {
      "display_name": "Python 3 (ipykernel)",
      "language": "python",
      "name": "python3"
    },
    "language_info": {
      "codemirror_mode": {
        "name": "ipython",
        "version": 3
      },
      "file_extension": ".py",
      "mimetype": "text/x-python",
      "name": "python",
      "nbconvert_exporter": "python",
      "pygments_lexer": "ipython3",
      "version": "3.11.3"
    },
    "colab": {
      "provenance": []
    }
  },
  "nbformat": 4,
  "nbformat_minor": 0
}