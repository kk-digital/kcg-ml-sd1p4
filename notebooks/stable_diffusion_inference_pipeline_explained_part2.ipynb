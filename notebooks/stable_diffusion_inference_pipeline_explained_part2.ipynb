{
 "cells": [
  {
   "cell_type": "code",
   "execution_count": null,
   "metadata": {
    "id": "jHov0bGZNoGG"
   },
   "outputs": [],
   "source": [
    "# Check if we're on Google Colab to clone and change dir into the repo\n",
    "if 'google.colab' in str(get_ipython()):\n",
    "  !git clone https://github.com/kk-digital/kcg-ml-sd1p4\n",
    "  %cd kcg-ml-sd1p4"
   ]
  },
  {
   "cell_type": "code",
   "execution_count": null,
   "metadata": {
    "id": "_Z4YAKjaNoGH"
   },
   "outputs": [],
   "source": [
    "!pip install -r requirements.txt"
   ]
  },
  {
   "cell_type": "code",
   "execution_count": null,
   "metadata": {
    "id": "SX_DQ_paNoGI"
   },
   "outputs": [],
   "source": [
    "!python3 ./download_models.py"
   ]
  },
  {
   "cell_type": "code",
   "execution_count": null,
   "metadata": {
    "id": "u6EZ8S8RNoGJ"
   },
   "outputs": [],
   "source": [
    "!python3 ./process_models.py"
   ]
  },
  {
   "cell_type": "code",
   "execution_count": null,
   "metadata": {
    "id": "qD4OFC5TNoGJ"
   },
   "outputs": [],
   "source": [
    "import os\n",
    "import sys\n",
    "\n",
    "base_directory = \"./\"\n",
    "sys.path.insert(0, base_directory)\n",
    "print(os.path.abspath(base_directory))\n",
    "\n",
    "import json\n",
    "import torch\n",
    "import configparser\n",
    "import safetensors\n",
    "from stable_diffusion import StableDiffusion\n",
    "from stable_diffusion.utils_backend import *\n",
    "from stable_diffusion.utils_image import *\n",
    "from stable_diffusion.utils_model import *\n",
    "from utility.utils_logger import *\n",
    "\n",
    "from stable_diffusion.constants import IODirectoryTree"
   ]
  },
  {
   "cell_type": "code",
   "execution_count": 3,
   "metadata": {
    "id": "cN7mqPZFNoGK"
   },
   "outputs": [],
   "source": [
    "DEVICE = get_device()\n",
    "config = configparser.ConfigParser(interpolation=configparser.ExtendedInterpolation())\n",
    "config.read(os.path.join(base_directory, \"config.ini\"))\n",
    "config['BASE']['BASE_DIRECTORY'] = base_directory"
   ]
  },
  {
   "cell_type": "code",
   "execution_count": null,
   "metadata": {
    "id": "Js4D54FmNoGK"
   },
   "outputs": [],
   "source": [
    "pt = IODirectoryTree(base_io_directory_prefix = config[\"BASE\"].get('base_io_directory_prefix'), base_directory=base_directory)\n",
    "pt"
   ]
  },
  {
   "cell_type": "code",
   "execution_count": null,
   "metadata": {
    "id": "88NCFYjwNoGL"
   },
   "outputs": [],
   "source": [
    "pt.create_directory_tree_folders()"
   ]
  },
  {
   "cell_type": "markdown",
   "metadata": {
    "id": "gUaYyWZPNoGL"
   },
   "source": [
    "Here we'll build the `StableDiffusion` class by loading the submodels from disk."
   ]
  },
  {
   "cell_type": "code",
   "execution_count": 6,
   "metadata": {
    "id": "sh8YF6c6NoGN"
   },
   "outputs": [],
   "source": [
    "from transformers import CLIPTextConfig, CLIPTextModel\n",
    "from stable_diffusion.model.clip_text_embedder import CLIPTextEmbedder\n",
    "# tokenizer = CLIPTokenizer.from_pretrained('openai/clip-vit-large-patch14')"
   ]
  },
  {
   "cell_type": "markdown",
   "metadata": {
    "id": "9UpXh-xmNoGO"
   },
   "source": [
    "Instantiate a text embedder:"
   ]
  },
  {
   "cell_type": "code",
   "execution_count": 7,
   "metadata": {
    "id": "bouqLfTNNoGP"
   },
   "outputs": [],
   "source": [
    "text_embedder = CLIPTextEmbedder(device=DEVICE)"
   ]
  },
  {
   "cell_type": "markdown",
   "metadata": {
    "id": "_FmVThbiNoGQ"
   },
   "source": [
    "Load it's submodels weights:"
   ]
  },
  {
   "cell_type": "code",
   "execution_count": null,
   "metadata": {
    "id": "d7uuVaAfNoGQ"
   },
   "outputs": [],
   "source": [
    "text_embedder.load_submodels(tokenizer_path = pt.tokenizer_path, transformer_path = pt.text_model_path)"
   ]
  },
  {
   "cell_type": "code",
   "execution_count": 11,
   "metadata": {
    "id": "csXFfFVBNoGR"
   },
   "outputs": [],
   "source": [
    "from stable_diffusion.model.vae import Autoencoder"
   ]
  },
  {
   "cell_type": "code",
   "execution_count": 12,
   "metadata": {
    "id": "G9NZz_v2NoGR"
   },
   "outputs": [],
   "source": [
    "autoencoder = Autoencoder(device=DEVICE)"
   ]
  },
  {
   "cell_type": "code",
   "execution_count": null,
   "metadata": {
    "id": "QZuLY2b9NoGR"
   },
   "outputs": [],
   "source": [
    "autoencoder.load(autoencoder_path = pt.autoencoder_path)"
   ]
  },
  {
   "cell_type": "code",
   "execution_count": null,
   "metadata": {
    "id": "6ltuHzFONoGS"
   },
   "outputs": [],
   "source": [
    "autoencoder.load_submodels(encoder_path=pt.encoder_path, decoder_path=pt.decoder_path)"
   ]
  },
  {
   "cell_type": "code",
   "execution_count": 15,
   "metadata": {
    "id": "6llIaRvTNoGS"
   },
   "outputs": [],
   "source": [
    "from stable_diffusion.model.unet import UNetModel\n",
    "# from stable_diffusion.utils.model import initialize_unet"
   ]
  },
  {
   "cell_type": "code",
   "execution_count": 16,
   "metadata": {
    "id": "T8UdQQcoNoGS"
   },
   "outputs": [],
   "source": [
    "unet_model = UNetModel(device=DEVICE)"
   ]
  },
  {
   "cell_type": "code",
   "execution_count": null,
   "metadata": {
    "id": "AAF03pxrNoGT"
   },
   "outputs": [],
   "source": [
    "unet_model.load(unet_path = pt.unet_path)"
   ]
  },
  {
   "cell_type": "code",
   "execution_count": null,
   "metadata": {
    "id": "Tcytu3VfNoGT"
   },
   "outputs": [],
   "source": [
    "get_memory_status(DEVICE)"
   ]
  },
  {
   "cell_type": "markdown",
   "metadata": {
    "id": "SoGVs6xLNoGU"
   },
   "source": [
    "Now we need to build a model with the same structure that the checkpoint we are going to use (by default, `runwayml/stable-diffusion-v1-5`), so the weights get properly mapped. This model is called `LatentDiffusion`. We also have a `initialize_latent_diffusion` function, which I will omit since it's a bit longer than the others."
   ]
  },
  {
   "cell_type": "code",
   "execution_count": 20,
   "metadata": {
    "id": "xmfbRxfSNoGU"
   },
   "outputs": [],
   "source": [
    "from stable_diffusion import LatentDiffusion\n",
    "# from stable_diffusion.utils.model import initialize_latent_diffusion"
   ]
  },
  {
   "cell_type": "code",
   "execution_count": 21,
   "metadata": {
    "id": "x736WiXxNoGU"
   },
   "outputs": [],
   "source": [
    "latent_diffusion = LatentDiffusion(\n",
    "                            autoencoder=autoencoder,\n",
    "                            clip_embedder=text_embedder,\n",
    "                            unet_model=unet_model,\n",
    "                            device=DEVICE\n",
    "                            )"
   ]
  },
  {
   "cell_type": "code",
   "execution_count": null,
   "metadata": {
    "id": "0iflJzE8NoGV"
   },
   "outputs": [],
   "source": [
    "latent_diffusion.load(latent_diffusion_path=pt.latent_diffusion_path)"
   ]
  },
  {
   "cell_type": "code",
   "execution_count": 23,
   "metadata": {
    "id": "QBpqDfmANoGV"
   },
   "outputs": [],
   "source": [
    "from stable_diffusion import StableDiffusion"
   ]
  },
  {
   "cell_type": "code",
   "execution_count": null,
   "metadata": {
    "id": "mQb2J8D_NoGV"
   },
   "outputs": [],
   "source": [
    "stable_diffusion = StableDiffusion(device=DEVICE, model = latent_diffusion, ddim_steps = 20)"
   ]
  },
  {
   "cell_type": "code",
   "execution_count": 25,
   "metadata": {
    "id": "C1CZ77m9NoGW"
   },
   "outputs": [],
   "source": [
    "prompt = 'A cat'"
   ]
  },
  {
   "cell_type": "code",
   "execution_count": null,
   "metadata": {
    "id": "EKr5wImzNoGW"
   },
   "outputs": [],
   "source": [
    "with section('sampling...'):\n",
    "    image_tensor = stable_diffusion.generate_images(prompt = prompt, seed = 1)"
   ]
  },
  {
   "cell_type": "code",
   "execution_count": null,
   "metadata": {
    "id": "0gPCz6OnNoGW"
   },
   "outputs": [],
   "source": [
    "to_pil(image_tensor.squeeze())"
   ]
  },
  {
   "cell_type": "markdown",
   "source": [
    "# Nice one!"
   ],
   "metadata": {
    "id": "PyROxCd2O46o"
   }
  }
 ],
 "metadata": {
  "kernelspec": {
   "display_name": "Python 3 (ipykernel)",
   "language": "python",
   "name": "python3"
  },
  "language_info": {
   "codemirror_mode": {
    "name": "ipython",
    "version": 3
   },
   "file_extension": ".py",
   "mimetype": "text/x-python",
   "name": "python",
   "nbconvert_exporter": "python",
   "pygments_lexer": "ipython3",
   "version": "3.11.3"
  },
  "colab": {
   "provenance": []
  }
 },
 "nbformat": 4,
 "nbformat_minor": 0
}
