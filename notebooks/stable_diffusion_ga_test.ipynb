{
  "cells": [
    {
      "cell_type": "code",
      "execution_count": null,
      "metadata": {
        "id": "uGX7E9X8bBcQ"
      },
      "outputs": [],
      "source": [
        "ENV_TYPE = \"TEST\"\n",
        "\n",
        "if(ENV_TYPE != \"TEST\"):\n",
        "  !git clone \"https://github.com/kk-digital/kcg-ml-sd1p4.git\"\n",
        "  %cd kcg-ml-sd1p4\n",
        "  !pip3 install -r requirements.txt\n",
        "  exit()\n",
        "else:\n",
        "  !pip3 install -r requirements.txt --ignore-installed"
      ]
    },
    {
      "cell_type": "code",
      "execution_count": null,
      "metadata": {
        "id": "TGCwHRkrFXbf"
      },
      "outputs": [],
      "source": [
        "!python3 ./download_models.py"
      ]
    },
    {
      "cell_type": "code",
      "execution_count": null,
      "metadata": {
        "id": "Frpzd0JqFXbg"
      },
      "outputs": [],
      "source": [
        "!python3 ./process_models.py"
      ]
    },
    {
      "cell_type": "code",
      "source": [
        "import subprocess\n",
        "\n",
        "# Check if the package is installed\n",
        "result = subprocess.run(['dpkg', '-s', 'libgl1-mesa-glx'], stdout=subprocess.PIPE, stderr=subprocess.PIPE, text=True)\n",
        "\n",
        "# If the package is not installed, install it\n",
        "if 'is not installed and no information is available' in result.stderr:\n",
        "    print(\"Installing libgl, which is needed to run the GA script.\")\n",
        "    !apt update\n",
        "    !apt install libgl1-mesa-glx -y\n",
        "else:\n",
        "    print(\"Package 'libgl1-mesa-glx' is already installed.\")\n"
      ],
      "metadata": {
        "id": "RmGv7FoBF35y"
      },
      "execution_count": null,
      "outputs": []
    },
    {
      "cell_type": "code",
      "execution_count": null,
      "metadata": {
        "id": "UL-xzoZT8qvW"
      },
      "outputs": [],
      "source": [
        "!python3 scripts/prompts_ga.py --generations 2"
      ]
    }
  ],
  "metadata": {
    "accelerator": "GPU",
    "colab": {
      "gpuType": "T4",
      "provenance": []
    },
    "kernelspec": {
      "display_name": "Python 3 (ipykernel)",
      "language": "python",
      "name": "python3"
    },
    "language_info": {
      "codemirror_mode": {
        "name": "ipython",
        "version": 3
      },
      "file_extension": ".py",
      "mimetype": "text/x-python",
      "name": "python",
      "nbconvert_exporter": "python",
      "pygments_lexer": "ipython3",
      "version": "3.11.3"
    }
  },
  "nbformat": 4,
  "nbformat_minor": 0
}